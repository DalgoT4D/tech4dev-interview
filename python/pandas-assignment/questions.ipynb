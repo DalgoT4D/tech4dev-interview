{
 "cells": [
  {
   "cell_type": "code",
   "execution_count": 1,
   "id": "50e4c65f",
   "metadata": {},
   "outputs": [],
   "source": [
    "import numpy as np\n",
    "import pandas as pd\n",
    "\n",
    "pd.set_option(\"display.precision\", 2)"
   ]
  },
  {
   "cell_type": "markdown",
   "id": "cb84687a",
   "metadata": {},
   "source": [
    "### load the telecom_churn.csv data in a df"
   ]
  },
  {
   "cell_type": "code",
   "execution_count": null,
   "id": "fcefb5ec",
   "metadata": {},
   "outputs": [],
   "source": []
  },
  {
   "cell_type": "code",
   "execution_count": null,
   "id": "5a6b976b",
   "metadata": {},
   "outputs": [],
   "source": []
  },
  {
   "cell_type": "markdown",
   "id": "ef98e462",
   "metadata": {},
   "source": [
    "### print the datatypes of all columns"
   ]
  },
  {
   "cell_type": "code",
   "execution_count": null,
   "id": "de435ab3",
   "metadata": {},
   "outputs": [],
   "source": []
  },
  {
   "cell_type": "markdown",
   "id": "a8bd1d04",
   "metadata": {},
   "source": [
    "### Change the col type of Churn col to int"
   ]
  },
  {
   "cell_type": "code",
   "execution_count": null,
   "id": "f39baa0f",
   "metadata": {},
   "outputs": [],
   "source": []
  },
  {
   "cell_type": "code",
   "execution_count": null,
   "id": "4bb027cb",
   "metadata": {},
   "outputs": [],
   "source": []
  },
  {
   "cell_type": "markdown",
   "id": "ec0324ec",
   "metadata": {},
   "source": [
    "### Can you find distribution of the Churn col. How many Truths and how many Falses ?"
   ]
  },
  {
   "cell_type": "code",
   "execution_count": null,
   "id": "3855b574",
   "metadata": {},
   "outputs": [],
   "source": []
  },
  {
   "cell_type": "markdown",
   "id": "5cc5f7c1",
   "metadata": {},
   "source": [
    "### What is the probability/fraction/precentage of 1s & 0s ?"
   ]
  },
  {
   "cell_type": "code",
   "execution_count": null,
   "id": "3ac010a5",
   "metadata": {},
   "outputs": [],
   "source": []
  },
  {
   "cell_type": "markdown",
   "id": "16145f11",
   "metadata": {},
   "source": [
    "### Sort the data by \"Total day charge\" by ascending"
   ]
  },
  {
   "cell_type": "code",
   "execution_count": null,
   "id": "1f7e0d23",
   "metadata": {},
   "outputs": [],
   "source": []
  },
  {
   "cell_type": "markdown",
   "id": "eb8f6053",
   "metadata": {},
   "source": [
    "### Sort the data by multiple columns \"Total day charge\" & \"Churn\" by ascending"
   ]
  },
  {
   "cell_type": "code",
   "execution_count": null,
   "id": "604e94f3",
   "metadata": {},
   "outputs": [],
   "source": []
  },
  {
   "cell_type": "markdown",
   "id": "265e9cc7",
   "metadata": {},
   "source": [
    "### Find mean of \"Churn\""
   ]
  },
  {
   "cell_type": "code",
   "execution_count": null,
   "id": "605109d1",
   "metadata": {},
   "outputs": [],
   "source": []
  },
  {
   "cell_type": "markdown",
   "id": "4fdaac21",
   "metadata": {},
   "source": [
    "###  What are average values of numerical features for churned users?"
   ]
  },
  {
   "cell_type": "code",
   "execution_count": null,
   "id": "f77ddbb4",
   "metadata": {},
   "outputs": [],
   "source": []
  },
  {
   "cell_type": "markdown",
   "id": "792dba9d",
   "metadata": {},
   "source": [
    "### What is the maximum length of international calls among loyal users (Churn == 0) who do not have an international plan?"
   ]
  },
  {
   "cell_type": "code",
   "execution_count": null,
   "id": "e552f1a3",
   "metadata": {},
   "outputs": [],
   "source": []
  },
  {
   "cell_type": "markdown",
   "id": "868f7715",
   "metadata": {},
   "source": [
    "### Pull the values of the rows with index from 0 to 5 (inclusive) and columns labeled from State to Area code (inclusive)"
   ]
  },
  {
   "cell_type": "code",
   "execution_count": null,
   "id": "d35a8827",
   "metadata": {},
   "outputs": [],
   "source": []
  },
  {
   "cell_type": "markdown",
   "id": "68ca4bb3",
   "metadata": {},
   "source": [
    "### Pull the values of the first five rows in the first three columns"
   ]
  },
  {
   "cell_type": "code",
   "execution_count": null,
   "id": "e6fbb1b9",
   "metadata": {},
   "outputs": [],
   "source": []
  },
  {
   "cell_type": "markdown",
   "id": "f6eeb924",
   "metadata": {},
   "source": [
    "### Pull the data of the states starting with letter 'W'"
   ]
  },
  {
   "cell_type": "code",
   "execution_count": null,
   "id": "94acec58",
   "metadata": {},
   "outputs": [],
   "source": []
  },
  {
   "cell_type": "markdown",
   "id": "317c9e51",
   "metadata": {},
   "source": [
    "### Convert the \"International plan\" values to boolean True False"
   ]
  },
  {
   "cell_type": "code",
   "execution_count": null,
   "id": "abd35713",
   "metadata": {},
   "outputs": [],
   "source": []
  },
  {
   "cell_type": "code",
   "execution_count": null,
   "id": "1a6c600a",
   "metadata": {},
   "outputs": [],
   "source": []
  },
  {
   "cell_type": "markdown",
   "id": "b560bb45",
   "metadata": {},
   "source": [
    "### Group by the Churn data and find mean, std, min, max of following cols - \"Total day minutes\", \"Total eve minutes\", \"Total night minutes\" in each category"
   ]
  },
  {
   "cell_type": "code",
   "execution_count": null,
   "id": "c1847689",
   "metadata": {},
   "outputs": [],
   "source": []
  },
  {
   "cell_type": "code",
   "execution_count": null,
   "id": "eb2d6ff7",
   "metadata": {},
   "outputs": [],
   "source": []
  },
  {
   "cell_type": "markdown",
   "id": "2629a859",
   "metadata": {},
   "source": [
    "### Add a new feature/column with total number of calls (day calls, eve calls, night calls, intl calls)"
   ]
  },
  {
   "cell_type": "code",
   "execution_count": null,
   "id": "cb0e8b64",
   "metadata": {},
   "outputs": [],
   "source": []
  },
  {
   "cell_type": "markdown",
   "id": "299bdf62",
   "metadata": {},
   "source": [
    "### Drop the \"Total calls\" column created above"
   ]
  },
  {
   "cell_type": "code",
   "execution_count": null,
   "id": "483521fd",
   "metadata": {},
   "outputs": [],
   "source": []
  },
  {
   "cell_type": "code",
   "execution_count": null,
   "id": "bb1bcdde",
   "metadata": {},
   "outputs": [],
   "source": []
  },
  {
   "cell_type": "markdown",
   "id": "eb9edaa7",
   "metadata": {},
   "source": [
    "### Create data frame using the following two dictionaries"
   ]
  },
  {
   "cell_type": "code",
   "execution_count": 1,
   "id": "0a56a85b",
   "metadata": {},
   "outputs": [],
   "source": [
    "GermanCars = {'Company': ['Ford', 'Mercedes', 'BMV', 'Audi'], 'Price': [23845, 171995, 135925 , 71400]}\n",
    "japaneseCars = {'Company': ['Toyota', 'Honda', 'Nissan', 'Mitsubishi '], 'Price': [29995, 23600, 61500 , 58900]}"
   ]
  },
  {
   "cell_type": "code",
   "execution_count": null,
   "id": "c3345124",
   "metadata": {},
   "outputs": [],
   "source": []
  },
  {
   "cell_type": "markdown",
   "id": "ec015b32",
   "metadata": {},
   "source": [
    "#### Concatenate the above two dataframes and reset the index"
   ]
  },
  {
   "cell_type": "code",
   "execution_count": null,
   "id": "51dd6e44",
   "metadata": {},
   "outputs": [],
   "source": []
  },
  {
   "cell_type": "code",
   "execution_count": null,
   "id": "760808d2",
   "metadata": {},
   "outputs": [],
   "source": []
  },
  {
   "cell_type": "markdown",
   "id": "130bd2d7",
   "metadata": {},
   "source": [
    "### Merge the data in _mobile and _laptop of a ranking question"
   ]
  },
  {
   "cell_type": "code",
   "execution_count": 1,
   "id": "0be3d5b9",
   "metadata": {},
   "outputs": [],
   "source": [
    "# read the data from Python_Assignment_Data_Merge.csv \n",
    "# and merge the laptop into mobile or mobile into lapotop columns"
   ]
  },
  {
   "cell_type": "code",
   "execution_count": null,
   "id": "148820d9",
   "metadata": {},
   "outputs": [],
   "source": []
  }
 ],
 "metadata": {
  "kernelspec": {
   "display_name": "Python 3 (ipykernel)",
   "language": "python",
   "name": "python3"
  },
  "language_info": {
   "codemirror_mode": {
    "name": "ipython",
    "version": 3
   },
   "file_extension": ".py",
   "mimetype": "text/x-python",
   "name": "python",
   "nbconvert_exporter": "python",
   "pygments_lexer": "ipython3",
   "version": "3.10.9"
  }
 },
 "nbformat": 4,
 "nbformat_minor": 5
}
